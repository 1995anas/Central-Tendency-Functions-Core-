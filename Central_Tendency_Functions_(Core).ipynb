{
  "nbformat": 4,
  "nbformat_minor": 0,
  "metadata": {
    "colab": {
      "provenance": []
    },
    "kernelspec": {
      "name": "python3",
      "display_name": "Python 3"
    },
    "language_info": {
      "name": "python"
    }
  },
  "cells": [
    {
      "cell_type": "markdown",
      "source": [
        "# 🔓Central Tendency Functions (Core)\n",
        "- Anas Abu Alhaija\n",
        "---\n"
      ],
      "metadata": {
        "id": "sJJ-99ak0-1K"
      }
    },
    {
      "cell_type": "markdown",
      "source": [
        "## Now, the Assignment:\n",
        "1) Open a new Colab notebook."
      ],
      "metadata": {
        "id": "4t_jwUsv_QEg"
      }
    },
    {
      "cell_type": "markdown",
      "source": [
        "2) Run a code cell with the lists of temperature data:"
      ],
      "metadata": {
        "id": "mjvNvMD6_W51"
      }
    },
    {
      "cell_type": "code",
      "source": [
        "# Lists of Fahrenheit temps\n",
        "week_1 = [45, 55, 49, 60, 52, 55, 58]\n",
        "week_2 = [51, 49, 62, 50, 53, 56, 59]\n",
        "week_3 = [60, 60, 61, 62, 57, 59, 58]\n",
        "week_4 = [59, 63, 62, 61, 65, 66, 62]"
      ],
      "metadata": {
        "id": "eBH7St1F3Q5v"
      },
      "execution_count": 2,
      "outputs": []
    },
    {
      "cell_type": "markdown",
      "source": [
        "3) Add the imports you will need to find the mean, median, and mode"
      ],
      "metadata": {
        "id": "vGozdeGF_fDw"
      }
    },
    {
      "cell_type": "code",
      "source": [
        "import numpy as np\n",
        "from statistics import mode"
      ],
      "metadata": {
        "id": "2bf3aSwZ3Jd_"
      },
      "execution_count": 9,
      "outputs": []
    },
    {
      "cell_type": "markdown",
      "source": [
        "4) Use functions from the imported packages to find the mean, median, and mode for the week_1 data.\n",
        "\n"
      ],
      "metadata": {
        "id": "poF0yNQB_i2P"
      }
    },
    {
      "cell_type": "code",
      "execution_count": 7,
      "metadata": {
        "colab": {
          "base_uri": "https://localhost:8080/"
        },
        "id": "7wKNBqXy07YJ",
        "outputId": "22543b85-1d62-44ac-f464-675fad656adb"
      },
      "outputs": [
        {
          "output_type": "execute_result",
          "data": {
            "text/plain": [
              "53.42857142857143"
            ]
          },
          "metadata": {},
          "execution_count": 7
        }
      ],
      "source": [
        "np.mean(week_1)"
      ]
    },
    {
      "cell_type": "code",
      "source": [
        "np.median(week_2)"
      ],
      "metadata": {
        "colab": {
          "base_uri": "https://localhost:8080/"
        },
        "id": "Y4h5PQKr4t_H",
        "outputId": "ad646234-9996-42c6-e96f-d7aa07f13f34"
      },
      "execution_count": 8,
      "outputs": [
        {
          "output_type": "execute_result",
          "data": {
            "text/plain": [
              "53.0"
            ]
          },
          "metadata": {},
          "execution_count": 8
        }
      ]
    },
    {
      "cell_type": "code",
      "source": [
        "mode(week_1)"
      ],
      "metadata": {
        "colab": {
          "base_uri": "https://localhost:8080/"
        },
        "id": "4R5peGiM48XJ",
        "outputId": "a333bb66-7ebf-418f-9b7c-e4727ae80cdf"
      },
      "execution_count": 10,
      "outputs": [
        {
          "output_type": "execute_result",
          "data": {
            "text/plain": [
              "55"
            ]
          },
          "metadata": {},
          "execution_count": 10
        }
      ]
    },
    {
      "cell_type": "markdown",
      "source": [
        "5) Now, rather than having to call each of these functions separately to get the three measures of central tendency, write a custom function to return all three values in a single function call:\n",
        "- Name the function \"central_tendency\" and start with a single positional argument that accepts the list of temperatures.\n",
        "- Define three variables as mean_temp, median_temp, and mode_temp using the existing functions from NumPy and the statistics module.\n",
        "- Add a return statement to return all three variables."
      ],
      "metadata": {
        "id": "BoUjrTVB_nU5"
      }
    },
    {
      "cell_type": "code",
      "source": [
        "def central_tendency(temps):\n",
        "  mean_temp = np.mean(temps).round(2)\n",
        "  median_temp = np.median(temps)\n",
        "  mode_temp = mode(temps)\n",
        "  return mean_temp, median_temp, mode_temp"
      ],
      "metadata": {
        "id": "Y8GhImUX9w9O"
      },
      "execution_count": 21,
      "outputs": []
    },
    {
      "cell_type": "markdown",
      "source": [
        "6) Test the function by calling it on week_1 data."
      ],
      "metadata": {
        "id": "iMoIAsIg_zVh"
      }
    },
    {
      "cell_type": "code",
      "source": [
        "central_tendency(week_1)"
      ],
      "metadata": {
        "colab": {
          "base_uri": "https://localhost:8080/"
        },
        "id": "ALWJknL16gGD",
        "outputId": "c65b026d-a09d-4c33-8176-3226b5ebca48"
      },
      "execution_count": 22,
      "outputs": [
        {
          "output_type": "execute_result",
          "data": {
            "text/plain": [
              "(53.43, 55.0, 55)"
            ]
          },
          "metadata": {},
          "execution_count": 22
        }
      ]
    },
    {
      "cell_type": "markdown",
      "source": [
        "7) Create a modified version of the central_tendency function to include a keyword argument with the default set to verbose = True\n",
        "- Add conditional statements within the function so that if verbose = True, the function will print:\n",
        "\n",
        "The mean is ___.\n",
        "\n",
        "The median is ___.\n",
        "\n",
        "The mode is ___.\n",
        "\n",
        "(Hint: use f-strings to fill in the blanks with the appropriate information)\n",
        "\n",
        "- If verbose = False, the function will just return the mean, median, and mode values without the print statements.\n"
      ],
      "metadata": {
        "id": "PVDVLl3K_2rY"
      }
    },
    {
      "cell_type": "code",
      "source": [
        "def central_tendency(temps, verbose = True):\n",
        "  mean_temp = np.mean(temps).round(2)\n",
        "  median_temp = np.median(temps)\n",
        "  mode_temp = mode(temps)\n",
        "  if verbose == True:\n",
        "    print(f'The mean is {mean_temp}')\n",
        "    print(f'The median is {median_temp}')\n",
        "    print(f'The mode is {mode_temp}')\n",
        "  else:\n",
        "    return mean_temp, median_temp, mode_temp"
      ],
      "metadata": {
        "id": "en-zEDRB8AFR"
      },
      "execution_count": 23,
      "outputs": []
    },
    {
      "cell_type": "markdown",
      "source": [
        "8) Test the function by calling it on week_2, using the function you created in task 7.\n",
        "\n",
        "Note: you are not rewriting the function; you are calling the function with different arguments.\n",
        "\n",
        "- With \"verbose = True\" included as the second argument in the function call.\n",
        "- With no argument for verbose included in the functional call (to test the default).\n",
        "- With \"verbose = False\" included as the second argument in the function call."
      ],
      "metadata": {
        "id": "dit6AEpQAMtx"
      }
    },
    {
      "cell_type": "code",
      "source": [
        "central_tendency(week_2, verbose = True)"
      ],
      "metadata": {
        "colab": {
          "base_uri": "https://localhost:8080/"
        },
        "id": "3_aB4qZJ-sxF",
        "outputId": "a9692fab-307b-4e79-9ecf-f3837272ba3d"
      },
      "execution_count": 25,
      "outputs": [
        {
          "output_type": "stream",
          "name": "stdout",
          "text": [
            "The mean is 54.29\n",
            "The median is 53.0\n",
            "The mode is 51\n"
          ]
        }
      ]
    },
    {
      "cell_type": "code",
      "source": [
        "central_tendency(week_2)"
      ],
      "metadata": {
        "colab": {
          "base_uri": "https://localhost:8080/"
        },
        "id": "XlNqXAkl-3fy",
        "outputId": "48e8fb29-8fce-4f22-f9c3-7a4a468c752d"
      },
      "execution_count": 26,
      "outputs": [
        {
          "output_type": "stream",
          "name": "stdout",
          "text": [
            "The mean is 54.29\n",
            "The median is 53.0\n",
            "The mode is 51\n"
          ]
        }
      ]
    },
    {
      "cell_type": "code",
      "source": [
        "central_tendency(week_2, verbose = False)"
      ],
      "metadata": {
        "colab": {
          "base_uri": "https://localhost:8080/"
        },
        "id": "eVggzhi0_A72",
        "outputId": "a56008dd-c2a6-4480-f9bf-181737451cf5"
      },
      "execution_count": 27,
      "outputs": [
        {
          "output_type": "execute_result",
          "data": {
            "text/plain": [
              "(54.29, 53.0, 51)"
            ]
          },
          "metadata": {},
          "execution_count": 27
        }
      ]
    }
  ]
}